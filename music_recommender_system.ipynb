{
 "cells": [
  {
   "cell_type": "markdown",
   "metadata": {},
   "source": [
    "# 📘 IMPORTS & DATA LOADING"
   ]
  },
  {
   "cell_type": "code",
   "execution_count": null,
   "metadata": {},
   "outputs": [],
   "source": [
    "# 1. Libraries and Loading\n",
    "import pandas as pd\n",
    "import numpy as np\n",
    "import matplotlib.pyplot as plt\n",
    "import seaborn as sns\n",
    "from sklearn.preprocessing import StandardScaler\n",
    "from sklearn.decomposition import PCA\n",
    "from sklearn.cluster import KMeans\n",
    "from sklearn.metrics.pairwise import cosine_similarity\n",
    "from sklearn.neighbors import NearestNeighbors\n",
    "from sklearn.model_selection import train_test_split\n",
    "from scipy.sparse import csr_matrix\n",
    "\n",
    "import warnings\n",
    "warnings.filterwarnings('ignore')\n",
    "\n",
    "# Load data\n",
    "df = pd.read_csv('data.csv')\n",
    "df.head()"
   ]
  },
  {
   "cell_type": "markdown",
   "metadata": {},
   "source": [
    "# 📊 PREPROCESSING & EDA"
   ]
  },
  {
   "cell_type": "code",
   "execution_count": null,
   "metadata": {},
   "outputs": [],
   "source": [
    "# 2. Preprocessing and EDA\n",
    "df.drop_duplicates(inplace=True)\n",
    "df.dropna(inplace=True)\n",
    "\n",
    "# Convert release_date to datetime\n",
    "df['release_date'] = pd.to_datetime(df['release_date'], errors='coerce')\n",
    "\n",
    "# Audio feature columns\n",
    "audio_features = ['valence', 'acousticness', 'danceability', 'duration_ms',\n",
    "                  'energy', 'instrumentalness', 'key', 'liveness',\n",
    "                  'loudness', 'mode', 'popularity', 'speechiness', 'tempo', 'year']\n",
    "\n",
    "# Standardize features\n",
    "scaler = StandardScaler()\n",
    "scaled_features = scaler.fit_transform(df[audio_features])\n",
    "\n",
    "# EDA: Popularity distribution\n",
    "plt.figure(figsize=(10, 4))\n",
    "sns.histplot(df['popularity'], bins=50, kde=True)\n",
    "plt.title('Popularity Distribution')\n",
    "plt.show()"
   ]
  },
  {
   "cell_type": "markdown",
   "metadata": {},
   "source": [
    "# 🎯 GENRE CLUSTERING VISUALIZATION WITH PCA"
   ]
  },
  {
   "cell_type": "code",
   "execution_count": null,
   "metadata": {},
   "outputs": [],
   "source": [
    "# 3. Genre Clustering Visualization with PCA\n",
    "pca = PCA(n_components=2)\n",
    "pca_result = pca.fit_transform(scaled_features)\n",
    "\n",
    "kmeans = KMeans(n_clusters=10, random_state=42)\n",
    "clusters = kmeans.fit_predict(scaled_features)\n",
    "\n",
    "df['cluster'] = clusters\n",
    "df['pca_one'] = pca_result[:, 0]\n",
    "df['pca_two'] = pca_result[:, 1]\n",
    "\n",
    "plt.figure(figsize=(12, 6))\n",
    "sns.scatterplot(x='pca_one', y='pca_two', hue='cluster', data=df, palette='tab10', s=10)\n",
    "plt.title('PCA Clustering Visualization')\n",
    "plt.show()"
   ]
  },
  {
   "cell_type": "markdown",
   "metadata": {},
   "source": [
    "# 🤖 CONTENT BASED FILTERING (COSINE SIMILARITY)"
   ]
  },
  {
   "cell_type": "code",
   "execution_count": null,
   "metadata": {},
   "outputs": [],
   "source": [
    "# Define audio features\n",
    "audio_features = ['valence', 'acousticness', 'danceability', 'duration_ms',\n",
    "                  'energy', 'instrumentalness', 'key', 'liveness',\n",
    "                  'loudness', 'mode', 'popularity', 'speechiness', 'tempo', 'year']\n",
    "\n",
    "# Standardize audio features\n",
    "scaler = StandardScaler()\n",
    "content_scaled = scaler.fit_transform(df[audio_features])\n",
    "\n",
    "# Fit NearestNeighbors model\n",
    "nn_model_content = NearestNeighbors(n_neighbors=11, metric='cosine', algorithm='brute')\n",
    "nn_model_content.fit(content_scaled)\n",
    "\n",
    "# Recommendation function using NearestNeighbors (memory-efficient)\n",
    "def get_content_recommendations(song_name, top_n=10):\n",
    "    idx_list = df[df['name'].str.lower() == song_name.lower()].index\n",
    "    if idx_list.empty:\n",
    "        return f\"'{song_name}' not found in dataset.\"\n",
    "    idx = idx_list[0]\n",
    "    distances, indices = nn_model_content.kneighbors([content_scaled[idx]], n_neighbors=top_n+1)\n",
    "    rec_indices = indices[0][1:]\n",
    "    return df.iloc[rec_indices][['name', 'artists', 'popularity']]"
   ]
  },
  {
   "cell_type": "markdown",
   "metadata": {},
   "source": [
    "# 📈 COLLABORATIVE FILTERING WITH MATRIX FACTORIZATION (SGD)"
   ]
  },
  {
   "cell_type": "code",
   "execution_count": null,
   "metadata": {},
   "outputs": [],
   "source": [
    "# 5. Create the User-Song Interaction Matrix (pivot table) for Collaborative Filtering\n",
    "top_songs_df = df.sort_values('popularity', ascending=False).drop_duplicates('name').head(10000)\n",
    "top_songs_df = top_songs_df[['name', 'popularity']].copy()\n",
    "\n",
    "# Simulate user interactions\n",
    "top_songs_df = pd.concat([top_songs_df] * 3, ignore_index=True)\n",
    "top_songs_df['user_id'] = top_songs_df.index % 5000\n",
    "\n",
    "# Group and pivot\n",
    "grouped_df = top_songs_df.groupby(['user_id', 'name']).agg({'popularity': 'mean'}).reset_index()\n",
    "pivot_df = grouped_df.pivot(index='user_id', columns='name', values='popularity').fillna(0)\n",
    "sparse_matrix = csr_matrix(pivot_df.values)\n",
    "\n",
    "# Fit KNN model\n",
    "model_knn = NearestNeighbors(metric='cosine', algorithm='brute')\n",
    "model_knn.fit(sparse_matrix)"
   ]
  },
  {
   "cell_type": "markdown",
   "metadata": {},
   "source": [
    "# 🎵 COLLABORATIVE RECOMMENDATIONS"
   ]
  },
  {
   "cell_type": "code",
   "execution_count": null,
   "metadata": {},
   "outputs": [],
   "source": [
    "# 6. Recommendation Functions\n",
    "def get_collab_recommendations(song_name, top_n=10):\n",
    "    if song_name not in pivot_df.columns:\n",
    "        return f\"'{song_name}' not found in interaction matrix.\"\n",
    "    song_vector = pivot_df[song_name].values.reshape(1, -1)\n",
    "    distances, indices = model_knn.kneighbors(song_vector, n_neighbors=top_n+1)\n",
    "    similar_songs = pivot_df.columns[indices[0][1:]].tolist()\n",
    "    return pd.DataFrame({'Recommended Songs': similar_songs})\n",
    "\n",
    "def recommend(song_name, method='content', top_n=10):\n",
    "    if method == 'content':\n",
    "        return get_content_recommendations(song_name, top_n)\n",
    "    elif method == 'collab':\n",
    "        return get_collab_recommendations(song_name, top_n)\n",
    "    else:\n",
    "        return \"Method must be either 'content' or 'collab'.\"\n",
    "\n",
    "# Example song for testing\n",
    "song_name = 'China'  # Replace with a real song name from your dataset\n",
    "\n",
    "# Get content-based recommendations\n",
    "print(\"Content-based Recommendations:\")\n",
    "print(recommend(song_name, method='content', top_n=5))\n",
    "\n",
    "# Get collaborative-based recommendations\n",
    "print(\"Collaborative-based Recommendations:\")\n",
    "print(recommend(song_name, method='collab', top_n=5))"
   ]
  }
 ],
 "metadata": {
  "kernelspec": {
   "display_name": "Python 3",
   "language": "python",
   "name": "python3"
  },
  "language_info": {
   "name": "python",
   "version": ""
  }
 },
 "nbformat": 4,
 "nbformat_minor": 2
}
